{
  "cells": [
    {
      "cell_type": "code",
      "execution_count": null,
      "metadata": {
        "id": "_PbbUj8102iw"
      },
      "outputs": [],
      "source": [
        "# TO DO : Ecrire une requête pour extraire tous les étudiants de la classe 'Four'\n",
        "result_set = conn.execute(text(\"SELECT * FROM student WHERE class = 'Four'\"))\n",
        "# Afficher les résultats\n",
        "for row in result_set:\n",
        "    print(row)"
      ]
    },
    {
      "cell_type": "code",
      "execution_count": null,
      "metadata": {},
      "outputs": [],
      "source": [
        "# TO DO : Sélectionner les enregistrements en fonction d'une classe particulière\n",
        "q=\"SELECT * FROM student WHERE class = 'Five'\"\n",
        "my_cursor=conn.execute(text(q)) \n",
        "data_row=my_cursor.fetchall()\n",
        "# TO DO : afficher le type de données renvoyé et le nombre d'enregistrements\n",
        "print(type(data_row))\n",
        "print(len(data_row))"
      ]
    },
    {
      "cell_type": "code",
      "execution_count": null,
      "metadata": {},
      "outputs": [],
      "source": [
        "# TO DO : sélectionner un enregistrement de la table 'student' dans la base de données où la colonne ID est égale à 8\n",
        "q = \"SELECT * FROM student WHERE ID = 8\"\n",
        "# Cette ligne exécute la requête et renvoie un objet curseur\n",
        "my_cursor = conn.execute(text(q))\n",
        "data_row = my_cursor.fetchone()\n",
        "# TO DO Cette ligne affiche les valeurs de la colonne ID, de la colonne Name et de la colonne Mark du tuple extrait précédemment\n",
        "print(data_row[0], data_row[1], data_row[3])"
      ]
    },
    {
      "cell_type": "code",
      "execution_count": null,
      "metadata": {},
      "outputs": [],
      "source": [
        "# TO DO : sélectionner les 10 premiers enregistrements de la table 'student' dans la base de données\n",
        "q = \"SELECT * FROM student LIMIT 10\"\n",
        "# Cette ligne exécute la requête et renvoie un objet curseur\n",
        "my_cursor = conn.execute(text(q))\n",
        "# Cette ligne extrait toutes les lignes de résultat du curseur sous forme de liste de tuples\n",
        "data_row = my_cursor.fetchall()\n",
        "# TO DO afficher le type de l'objet retourné (dans ce cas, une liste de tuples)\n",
        "print(type(data_row))\n",
        "# TO DO affiche le nombre d'enregistrements dans la liste\n",
        "print(len(data_row))\n",
        "# Cette boucle parcourt la liste d'enregistrements et affiche chaque tuple\n",
        "for row in data_row:\n",
        "    print(row)"
      ]
    }
  ],
  "metadata": {
    "colab": {
      "provenance": []
    },
    "kernelspec": {
      "display_name": "Python 3",
      "name": "python3"
    },
    "language_info": {
      "name": "python"
    }
  },
  "nbformat": 4,
  "nbformat_minor": 0
}
