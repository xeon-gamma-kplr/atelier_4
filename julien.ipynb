{
  "nbformat": 4,
  "nbformat_minor": 0,
  "metadata": {
    "colab": {
      "provenance": []
    },
    "kernelspec": {
      "name": "python3",
      "display_name": "Python 3"
    },
    "language_info": {
      "name": "python"
    }
  },
  "cells": [
    {
      "cell_type": "code",
      "execution_count": null,
      "metadata": {
        "id": "dwXLHq9B1L7L"
      },
      "outputs": [],
      "source": [
        "from sqlalchemy import create_engine\n",
        "from sqlalchemy import text\n",
        "my_conn = create_engine(\"sqlite:////content/my_db.db\")\n",
        "\n",
        "conn = my_conn.connect()\n",
        "\n",
        "# Importer les modules nécessaires\n",
        "from sqlalchemy import create_engine, text\n",
        "import pandas as pd\n",
        "\n",
        "# Créer un engine pour une base de données SQLite située dans \"/content/my_db.db\"\n",
        "engine = create_engine(\"sqlite:////content/my_db.db\")\n",
        "\n",
        "# Établir une connexion à la base de données\n",
        "conn = engine.connect()\n",
        "\n",
        "# Exécuter la requête et récupérer les résultats\n",
        "result_set = conn.execute(text(\"SELECT name FROM sqlite_master WHERE type='table'\"))\n",
        "\n",
        "# Afficher les noms des tables\n",
        "for row in result_set:\n",
        "    print(row[0])\n",
        "\n",
        "#print(engine.sqlite_master())\n",
        "\n",
        "# Établir une connexion à la base de données\n",
        "conn = engine.connect()\n",
        "\n",
        "# TO DO: Écrire une requête pour extraire toutes les données de la table \"student\"\n",
        "query = text(\"SELECT * FROM student\")\n",
        "\n",
        "# Exécuter la requête et récupérer les résultats\n",
        "result_set = conn.execute(query)\n",
        "\n",
        "# TO DO: Afficher les données récupérées sous forme de dataframe pandas\n",
        "df = pd.DataFrame(result_set.fetchall(),columns=result_set.keys())\n",
        "df"
      ]
    }
  ]
}